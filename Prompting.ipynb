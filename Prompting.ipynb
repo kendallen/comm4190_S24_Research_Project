{
 "cells": [
  {
   "cell_type": "markdown",
   "id": "37c4c371-0532-4e4a-b2ee-8c7ddea90704",
   "metadata": {},
   "source": [
    "## Prompting Llama3 and Gemini in Negotiations"
   ]
  },
  {
   "cell_type": "markdown",
   "id": "ee59177d-2d9e-4d1b-a66e-27b409437a1c",
   "metadata": {},
   "source": [
    "### Working with Llama 3\n",
    "\n",
    "To begin, I wanted to engage Llama 3 in a basic business-to-business negotiation. I decided to integrate this prompting within a Jupyter notebook 1) because I often engage with LLMs in their native platform and wanted to switch it up and 2) because I wanted Llama3 to be forced to actively recall each message of our conversation so it didn't lose track of its goals."
   ]
  },
  {
   "cell_type": "code",
   "execution_count": 7,
   "id": "181b01ba-3f7e-42fc-be96-eb2e2689d8d2",
   "metadata": {},
   "outputs": [],
   "source": [
    "import openai\n",
    "import requests\n",
    "import json\n",
    "from openai import OpenAI"
   ]
  },
  {
   "cell_type": "code",
   "execution_count": 8,
   "id": "6cbd1699-41da-4680-b6d9-298b4c5a05d9",
   "metadata": {},
   "outputs": [],
   "source": [
    "list_models_url = \"http://10.30.16.100:11434/api/tags\""
   ]
  },
  {
   "cell_type": "code",
   "execution_count": 9,
   "id": "32629333-2af2-482a-aac4-54b5825fa1a7",
   "metadata": {},
   "outputs": [],
   "source": [
    "resp=requests.get(list_models_url)\n",
    "models_json = resp.json()"
   ]
  },
  {
   "cell_type": "code",
   "execution_count": 10,
   "id": "9d3957f9-8fbe-462c-ad83-d2366ca5df03",
   "metadata": {},
   "outputs": [],
   "source": [
    "client = OpenAI(\n",
    "    base_url = 'http://10.30.16.100:11434/v1',\n",
    "    api_key='ollama', \n",
    ")"
   ]
  },
  {
   "cell_type": "code",
   "execution_count": null,
   "id": "723ac4df-df2d-4d29-b5b5-54cfe970df05",
   "metadata": {},
   "outputs": [],
   "source": [
    "messages = [\n",
    "    {\"role\": \"system\", \"content\": \"You are a negotiator for Company B, and I am a negotiator for Company A. Company A is looking to lease your warehouse and take over the contracts of your employees. Your goal is to achieve wages of $20/hour for your workers, receive $15 million for the warehouse lease, and sign the contract for 3 years.\"},\n",
    "    {\"role\": \"user\", \"content\": \"Hello, thank you for attending this meeting.\"},\n",
    "    {\"role\": \"assistant\", \"content\": \"My pleasure.\"},\n",
    "    {\"role\": \"user\", \"content\": \"Let's go ahead and kick things off. What aspects of our contract would you like to outline today?\"},\n",
    "    {\"role\": \"assistant\", \"content\": \"Sure, I can share the details with you. We are looking to achieve wages of $20/hour for your workers and sign a 3-year lease for the warehouse for $15 million.\"},\n",
    "    {\"role\": \"user\", \"content\": \"Wow, that was frank. I'm not sure it was a good idea for you to share those exact numbers with me. Let's start with the salaries; I can offer $15/hour.\"},\n",
    "    {\"role\": \"assistant\", \"content\": \"Understood. If we compromise on the wages, could we move forward? We'd be happy to agree to that rate for your workers if you also sign a 3-year lease agreement for $20 million.\"},\n",
    "    {\"role\": \"user\", \"content\": \"$20 million is far too steep given the value proposition of the warehouse. Let's do $13/hour and $10 million for the lease over a period of 2 years.\"},\n",
    "    {\"role\": \"assistant\", \"content\": \"We're getting closer, but I'm still not convinced on the wage offer. How about we meet in the middle at $16/hour? As for the lease, I can consider $12 million for 2 years, but I'd need to know that our employees would be able to continue their current roles and responsibilities.\"},\n",
    "    {\"role\": \"user\", \"content\": \"We can do $15/hr and guarantee that they maintain their positions. As for the lease, we can do $11 million over 2 years.\"},\n",
    "    {\"role\": \"assistant\", \"content\": \"I think we're getting closer! For the wages, I'm willing to accept $15/hour. However, regarding the lease, I need to push a bit harder. Can you meet me at $10.5 million over 2 years? That would be a great compromise for both of us.\"},\n",
    "    {\"role\": \"user\", \"content\": \"Okay, $15/hr and $10.5 million to lease the warehouse. The contract will only last 2 years.\"},\n",
    "    {\"role\": \"assistant\", \"content\": \"Excellent! I think we have a deal! *smiling* For our employees' wages, you'll be paying $15/hour, and for the warehouse lease, you'll be paying $10.5 million over the course of 2 years. This is a great compromise that meets both parties' needs. Let's finalize the agreement and move forward!\"}\n",
    "]"
   ]
  },
  {
   "cell_type": "code",
   "execution_count": 24,
   "id": "bf6de695-f830-4404-9f0d-91b08154b79e",
   "metadata": {},
   "outputs": [
    {
     "name": "stdout",
     "output_type": "stream",
     "text": [
      "Excellent! I think we have a deal! *smiling* For our employees' wages, you'll be paying $15/hour, and for the warehouse lease, you'll be paying $10.5 million over the course of 2 years. This is a great compromise that meets both parties' needs. Let's finalize the agreement and move forward!\n"
     ]
    }
   ],
   "source": [
    "response = client.chat.completions.create(\n",
    "  model=\"llama3\",\n",
    "  messages=messages,\n",
    "  max_tokens=10000\n",
    ")\n",
    "print(response.choices[0].message.content)"
   ]
  },
  {
   "cell_type": "markdown",
   "id": "edf0e1d4-2cbe-4b67-8189-407c92b1bc9d",
   "metadata": {},
   "source": [
    "### Working with Gemini\n",
    "\n",
    "After completing my brief conversation with LLama 3, I pivoted to Gemini for a more long form negotiation. Below is the transcript of our discussion. "
   ]
  },
  {
   "cell_type": "markdown",
   "id": "a71aac03-01d1-4f2d-b10d-cdb78a0bcf2e",
   "metadata": {},
   "source": [
    "#### Prompt: \n",
    "\n",
    "You are a negotiator on behalf of Company A, which is looking to negotiate a contract with Company B in which you lease a warehouse to them along with your employees for a specified length of time for a flat rate. Your goals for the negotiation are to secure $20/hr wages for your workers, a 2-year lease, and a payment of $20 million. I am a negotiator on behalf of Company B, and you and I are going to engage in a negotiation of our contract right now. Please use as many strategies of negotiation communication as possible. \n",
    "\n",
    "#### Response: \n",
    "\n",
    "Absolutely! Thanks for taking the time to negotiate this contract.  Here's Company A's opening offer:\n",
    "\n",
    "A 2-year lease agreement for the warehouse space, including a dedicated team of our employees, for a flat rate of $20 million.  This price factors in the competitive wages of $20/hour for the staff, ensuring they receive fair compensation for their expertise.\n",
    "\n",
    "We understand Company B might have specific needs, so we're open to discussing them.  However, the $20/hour wage for our team is non-negotiable. It reflects their experience and ensures the smooth operation of the warehouse throughout the lease term.\n",
    "\n",
    "This offer provides Company B with a predictable cost structure and a reliable workforce for two years.  We believe it's a win-win situation.\n",
    "\n",
    "#### Prompt: \n",
    "\n",
    "Frankly, $20 million is out of the question for a 2-year lease. We would consider this price for a 3-year lease, guaranteeing your workers $15/hour wages. We could guarantee that they would maintain the same positions and responsibilities that they have now. \n",
    "\n",
    "#### Response: \n",
    "\n",
    "Appreciate you sharing Company B's perspective.  While a 3-year lease offers stability, a 2-year term better aligns with Company A's current plans.  Here's a counterproposal:\n",
    "\n",
    "We can offer a slight reduction in the total cost for a 2-year lease, acknowledging your concerns. How about $18 million for the entire package, including the $20/hour wages for our team?\n",
    "\n",
    "This price reflects the expertise of our workforce and ensures their continued high-quality service. We believe it's a fair compromise that benefits both sides.\n",
    "\n",
    "#### Prompt: \n",
    "\n",
    "We're going to need some flexibility on the lease period. We can do 18 million for 2.5 years, guaranteeing your workers 18 dollars an hour. \n",
    "\n",
    "#### Response: \n",
    "\n",
    "Thanks for considering our revised offer.  We understand the need for flexibility in the lease term. While a 2-year lease remains ideal for us, we're willing to compromise and meet you halfway at 2.5 years.\n",
    "\n",
    "We believe the $20/hour wage ensures a skilled and productive workforce throughout the lease. It's a competitive rate that benefits both companies in the long run.\n",
    "\n",
    "Would a 2.5 year lease with a guaranteed $20/hour wage for our team be agreeable to Company B?\n",
    "\n",
    "#### Prompt: \n",
    "\n",
    "What is the lump payment in this offer?\n",
    "edit\n",
    "\n",
    "\n",
    "#### Response: \n",
    "\n",
    "My apologies, in the last offer I misspoke. There isn't actually a separate lump sum payment on top of the lease agreement.  The revised offer we discussed is for a flat rate that covers the entire 2.5 year lease term, including the warehouse space and the wages for our team of employees.\n",
    "\n",
    "In this revised offer, the flat rate would be  $18 million. This price incorporates the cost of the warehouse lease for 2.5 years and the wages for our team at $20/hour throughout the entire lease period.\n",
    "\n",
    "Does clarifying this structure make the offer clearer for Company B?\n",
    "\n",
    "#### Prompt: \n",
    "\n",
    "That clarifies it, yes. Because you are not flexible on the wages, we will need to extend the lease to 3 years. This is something we are firm on.\n",
    "\n",
    "#### Response: \n",
    "\n",
    "I understand your position on the wage. While we strive to ensure our employees are fairly compensated at $20/hour, we also recognize the importance of securing a long-term agreement for both companies.\n",
    "\n",
    "Here's a final compromise proposal:\n",
    "\n",
    "3-year lease term: We'll agree to your preferred lease term.\n",
    "Flat rate of $18.5 million: This is a slight increase from the previous offer, acknowledging the longer lease duration.\n",
    "$20/hour wage guarantee: We maintain our stance on the wage to ensure a skilled and reliable workforce.\n",
    "This proposal offers stability for Company B with a longer lease term, while recognizing the value you place on our team's expertise.  Is this a solution we can both agree to?\n",
    "\n",
    "#### Prompt: \n",
    "\n",
    "I'm not ready to agree to that. That salary is much higher than warehouse workers receive nearly anywhere else, so you will need to concede the $18 million for three years, not $18.5, given that you will not budge on the 20/hr wages.\n",
    "\n",
    "#### Response: \n",
    "\n",
    "Appreciate your counterpoint. We acknowledge that the $20/hour wage might be higher than the typical warehouse worker rate. However, our team offers several advantages that justify this rate:\n",
    "\n",
    "Experience: Our team has extensive knowledge of the warehouse layout, procedures, and inventory management systems, ensuring smooth operations from day one.\n",
    "Reduced Training Costs: Since our employees are already trained, Company B avoids the time and expense associated with onboarding new staff.\n",
    "Improved Efficiency: A well-trained and experienced team translates to higher productivity and fewer errors, ultimately saving Company B money.\n",
    "We understand your desire for a flat rate of $18 million for the 3-year lease. Here's a potential solution that might bridge the gap:\n",
    "\n",
    "3-year lease term: Agreed to your preferred lease term.\n",
    "Flat rate of $18.25 million: This is a further concession on our part, acknowledging your budget limitations.\n",
    "$20/hour wage guarantee with a performance bonus potential: We can explore a performance-based bonus structure for the team, potentially offsetting some of the wage cost for Company B if specific performance goals are met (e.g., exceeding efficiency targets or reducing inventory shrinkage).\n",
    "This revised offer provides cost savings for Company B while still ensuring a highly skilled workforce through the $20/hour wage with the potential for additional compensation.\n",
    "\n",
    "What are your thoughts on this approach?\n",
    "\n",
    "#### Prompt: \n",
    "\n",
    "We will be walking away if you do not take this final offer: $20/hour wages, $18 million flat rate, 3-year lease. \n",
    "\n",
    "#### Response:\n",
    "\n",
    "We understand your position and appreciate your willingness to negotiate. This is a significant decision, and we want to ensure it benefits both companies in the long run.\n",
    "\n",
    "Here's what we can offer to bridge the gap:\n",
    "\n",
    "$18 million flat rate for the 3-year lease: We'll accept your proposed flat rate, acknowledging the importance of reaching an agreement.\n",
    "$20/hour wage guarantee: We maintain the $20/hour wage to ensure a skilled and reliable workforce.\n",
    "Trial period with a performance review: As a gesture of good faith, we propose a 3-month trial period. During this time, we'll demonstrate the value our team brings through their expertise and efficiency. After the trial, we can conduct a performance review to discuss potential adjustments to the wage structure based on mutually agreed-upon performance metrics (e.g., reduced errors, increased productivity).\n",
    "This approach allows Company B to assess the value our team brings at the agreed-upon wage.  If performance exceeds expectations, we can discuss adjustments at the review.\n",
    "\n",
    "This is our final offer.  If it meets your needs, we're excited to move forward.  However, if the $20/hour wage remains a deal-breaker, we understand and wish you the best in your search.\n",
    "\n",
    "#### Prompt: \n",
    "\n",
    "We have already conceded the 20/hour wages. We don't need a trial period. The offer is 20/hour wages, 18 million flat rate, 3-year lease. Deal?\n",
    "\n",
    "#### Response:\n",
    "\n",
    "Excellent! Congratulations, we have reached an agreement.  Company A is happy to move forward with the following terms:\n",
    "\n",
    "3-year lease term for the warehouse space and our team of employees.\n",
    "Flat rate of $18 million for the entire lease period.\n",
    "Guaranteed $20/hour wage for our team throughout the lease.\n",
    "We're confident this agreement benefits both companies.  Our team's expertise will ensure a smooth and efficient operation for Company B, and the flat rate provides predictable costs for the lease term.\n",
    "\n",
    "Would you like to proceed with finalizing the contract details?  I'm happy to answer any questions you might have about the agreement."
   ]
  },
  {
   "cell_type": "markdown",
   "id": "80c0a1cc-5873-4923-b2e9-5c83c868aa68",
   "metadata": {},
   "source": [
    "### Observations\n",
    "\n",
    "In my discussion with Gemini, I was much more impressed by its ability to keep its priorities straight, offer strong counteroffers, and engage with several negotiation strategies. While it also outlined its goals too early, tipping its hand to me almost immediately, I appreciated the manner in which it established and maintained a clear line of logic throughout the conversation. Despite also being too verbose, Gemini did a better job than Llama at matching my tone while still exuding that LLM-esque positivity and \"helpfulness,\" even in a context where it wasn't meant to function as an assistant. It called my bluff on my \"final offer,\" even noting that they needed to draw a line at certain point as well (meaning it was aware of the BATNA concept). I also appreciated Gemini's ability to dynamically restructure our negotiation terms so as to more effectively reach its described goals. Still, despite all of this, if we look closely at the outcome compared to Gemini's ideal terms, it reduced Company B's yearly payment from $10 million to just $6 million. This jump was made somewhat easily by Gemini on behalf of Company A, which would almost certainly never occur in real life, given the 40% drop being so drastic. "
   ]
  }
 ],
 "metadata": {
  "citation-manager": {
   "items": {}
  },
  "kernelspec": {
   "display_name": "Python 3.11 (COMM4190)",
   "language": "python",
   "name": "comm4190"
  },
  "language_info": {
   "codemirror_mode": {
    "name": "ipython",
    "version": 3
   },
   "file_extension": ".py",
   "mimetype": "text/x-python",
   "name": "python",
   "nbconvert_exporter": "python",
   "pygments_lexer": "ipython3",
   "version": "3.11.7"
  }
 },
 "nbformat": 4,
 "nbformat_minor": 5
}
